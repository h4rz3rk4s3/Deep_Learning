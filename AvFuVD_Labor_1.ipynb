{
 "cells": [
  {
   "cell_type": "markdown",
   "id": "9d95c24c-02de-41e1-9a54-3348a288e632",
   "metadata": {},
   "source": [
    "<style type=\"text/css\">\n",
    "ol {\n",
    "  counter-reset: item\n",
    "}\n",
    "li {\n",
    "  display: block\n",
    "}\n",
    "li:before {\n",
    "  content: counters(item, \".\") \" \";\n",
    "  counter-increment: item\n",
    "}\n",
    "</style>\n",
    "# Analyse von Finanz- und Versicherungsdaten\n",
    "\n",
    "<hr>\n",
    "\n",
    "#### Prof. Dr. Fabian Transchel - Hochschule Harz\n",
    "#### Stand: 30.03.2022\n",
    "\n",
    "<hr>\n",
    "\n",
    "## Labor/Übung 1 - \"Aufwärmprogramm\""
   ]
  },
  {
   "cell_type": "markdown",
   "id": "08da7e88-37bc-497f-b86b-4056958caa01",
   "metadata": {},
   "source": [
    "<div style=\"border:1px solid black; background-color: #fefeee; padding:15px;\">\n",
    "<b>Aufgabe 1: PowerBI-Dashboard</b>\n",
    "    <br><br>\n",
    "    <ol>\n",
    "    <li>Rufen Sie <a href=\"https://docs.microsoft.com/de-de/power-bi/create-reports/sample-tutorial-connect-to-the-samples\">https://docs.microsoft.com/de-de/power-bi/create-reports/sample-tutorial-connect-to-the-samples</a> auf und laden Sie den dort verfügbaren Datensatz herunter.</li>\n",
    "    <li>Fordern Sie eine (kostenfreie) PowerBI-Lizanz an und installieren Sie PowerBI.</li>\n",
    "    <li>Beschreiben Sie die Elemente des Dashboards qualitativ. Was unterscheidet die unterschiedlichen Darstellungsformen?</li>\n",
    "    </ol>\n",
    "</div>\n",
    "<br>\n",
    "<div style=\"border:1px solid black; background-color: #fefeee; padding:15px;\">\n",
    "    <b><i>(Optional)</i> Aufgabe 2: Eigenes Dashboard</b>\n",
    "    <ol>\n",
    "    <li>Betrachten Sie <a href=\"https://www.zeit.de/wissen/aktuelle-corona-zahlen-karte-deutschland-landkreise\">https://www.zeit.de/wissen/aktuelle-corona-zahlen-karte-deutschland-landkreise</a>, <a href=\"https://www.spiegel.de/wissenschaft/medizin/corona-zahlen-welche-landkreise-ueber-dem-grenzwert-der-sieben-tage-inzidenz-liegen-a-e48c758d-d52a-4389-b881-f3ed78a4dab9\">https://www.spiegel.de/wissenschaft/medizin/corona-zahlen-welche-landkreise-ueber-dem-grenzwert-der-sieben-tage-inzidenz-liegen-a-e48c758d-d52a-4389-b881-f3ed78a4dab9</a> und <a href=\"https://www.faz.net/aktuell/gesellschaft/gesundheit/coronavirus/zahlen-zum-coronavirus-die-pandemie-im-ueberblick-16653240.html\">https://www.faz.net/aktuell/gesellschaft/gesundheit/coronavirus/zahlen-zum-coronavirus-die-pandemie-im-ueberblick-16653240.html</a></li>\n",
    "    <li>Laden Sie die Archiv-Daten über die Corona-Inzidenzen in Deutschland vom RKI unter <a href=\"https://www.rki.de/DE/Content/InfAZ/N/Neuartiges_Coronavirus/Daten/Inzidenz-Tabellen.html\">https://www.rki.de/DE/Content/InfAZ/N/Neuartiges_Coronavirus/Daten/Inzidenz-Tabellen.html</a> (und ggf. weitere Datenquellen)</li>\n",
    "        <li>Beginnen Sie mittels der <b>dash</b>-Module von <b>plotly</b> ein vergleichbares Dashboard zu konstruieren.</li>\n",
    "    </ol>\n",
    "</div>"
   ]
  }
 ],
 "metadata": {
  "kernelspec": {
   "display_name": "Python [conda env:hsh_ml]",
   "language": "python",
   "name": "conda-env-hsh_ml-py"
  },
  "language_info": {
   "codemirror_mode": {
    "name": "ipython",
    "version": 3
   },
   "file_extension": ".py",
   "mimetype": "text/x-python",
   "name": "python",
   "nbconvert_exporter": "python",
   "pygments_lexer": "ipython3",
   "version": "3.8.12"
  }
 },
 "nbformat": 4,
 "nbformat_minor": 5
}
