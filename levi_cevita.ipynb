{
 "cells": [
  {
   "cell_type": "code",
   "execution_count": 2,
   "id": "a12588c9-9c58-48a3-b302-58be115dec1a",
   "metadata": {},
   "outputs": [],
   "source": [
    "import numpy as np"
   ]
  },
  {
   "cell_type": "code",
   "execution_count": 28,
   "id": "7e69067f-a077-403c-bfa2-fbc48733b333",
   "metadata": {},
   "outputs": [
    {
     "data": {
      "text/plain": [
       "array([[[111, 211, 311],\n",
       "        [121, 221, 321],\n",
       "        [131, 231, 331]],\n",
       "\n",
       "       [[112, 212, 312],\n",
       "        [122, 222, 322],\n",
       "        [132, 232, 332]],\n",
       "\n",
       "       [[113, 213, 313],\n",
       "        [123, 223, 323],\n",
       "        [133, 233, 333]]])"
      ]
     },
     "execution_count": 28,
     "metadata": {},
     "output_type": "execute_result"
    }
   ],
   "source": [
    "A= np.array(np.mat(\"111 211 311; 121 221 321; 131 231 331\"))\n",
    "B= np.array(np.mat(\"112 212 312; 122 222 322; 132 232 332\"))\n",
    "C= np.array(np.mat(\"113 213 313; 123 223 323; 133 233 333\"))\n",
    "Tensor_komp = np.array([A,B,C])\n",
    "Tensor_komp"
   ]
  },
  {
   "cell_type": "code",
   "execution_count": 16,
   "id": "dd9a8e5b-b9cd-4dc3-87c8-2c338dda6faa",
   "metadata": {},
   "outputs": [],
   "source": [
    "Epsilon_Tensor = Tensor_komp"
   ]
  },
  {
   "cell_type": "code",
   "execution_count": 72,
   "id": "b463f726-df6f-47fd-bcfa-738e9076aa25",
   "metadata": {},
   "outputs": [
    {
     "data": {
      "text/plain": [
       "221"
      ]
     },
     "execution_count": 72,
     "metadata": {},
     "output_type": "execute_result"
    }
   ],
   "source": [
    "Tensor_komp[0][1][1]"
   ]
  },
  {
   "cell_type": "code",
   "execution_count": 67,
   "id": "c8a8c85d-d4fa-43c6-a9ab-404fe3f8e49d",
   "metadata": {},
   "outputs": [],
   "source": [
    "def check_permutation(A,B):\n",
    "    \"\"\"\n",
    "    A = Vergleichs Permutation\n",
    "    B = geprüfte Permutation\n",
    "    \"\"\"\n",
    "    b = len(B)\n",
    "    a = np.divmod(A, 10) # k = a[1] \n",
    "    aa = np.divmod(a[0], 10)# j = aa[1] und i = aa[0]\n",
    "    \n",
    "    #b = np.divmod(B, 10) # k = b[1] \n",
    "    #bb = np.divmod(b[0], 10) #j = bb[1] und i = bb[0]\n",
    "    \n",
    "    if ((B[0] == B[1]) or (B[1] == B[2]) or (B[0] == B[2])):\n",
    "        return 0\n",
    "    elif ((B[2] == a[1]) or (B[1] == aa[1]) or (B[0] == aa[0])):\n",
    "        return -1\n",
    "    else:\n",
    "        return 1"
   ]
  },
  {
   "cell_type": "code",
   "execution_count": 70,
   "id": "c6aa8d50-bf8b-4759-b90e-6ce5ae0a407c",
   "metadata": {},
   "outputs": [
    {
     "name": "stdout",
     "output_type": "stream",
     "text": [
      "1\n"
     ]
    }
   ],
   "source": [
    "a = check_permutation(123, [3, 1, 2])\n",
    "print(a)"
   ]
  },
  {
   "cell_type": "code",
   "execution_count": 79,
   "id": "dcf9a62c-988f-43fd-92e5-cb281e45b7fe",
   "metadata": {},
   "outputs": [
    {
     "data": {
      "text/plain": [
       "array([[[ 0,  0,  0],\n",
       "        [ 0,  0, -1],\n",
       "        [ 0,  1,  0]],\n",
       "\n",
       "       [[ 0,  0,  1],\n",
       "        [ 0,  0,  0],\n",
       "        [-1,  0,  0]],\n",
       "\n",
       "       [[ 0, -1,  0],\n",
       "        [-1,  0,  0],\n",
       "        [ 0,  0,  0]]])"
      ]
     },
     "execution_count": 79,
     "metadata": {},
     "output_type": "execute_result"
    }
   ],
   "source": [
    "ijk = 123\n",
    "\n",
    "for k in enumerate(Tensor_komp, 1):\n",
    "    for j in enumerate(k[1], 1):\n",
    "        for i in enumerate(j[1], 1):\n",
    "            komp = np.array([i[0], j[0], k[0]])\n",
    "            Epsilon_Tensor[k[0]-1][j[0]-1][i[0]-1] = check_permutation(ijk, komp)\n",
    "Epsilon_Tensor\n",
    "            \n",
    "            "
   ]
  },
  {
   "cell_type": "code",
   "execution_count": 56,
   "id": "210a0c73-8db2-4181-97c9-7f218557c914",
   "metadata": {},
   "outputs": [
    {
     "data": {
      "text/plain": [
       "(1, 2)"
      ]
     },
     "execution_count": 56,
     "metadata": {},
     "output_type": "execute_result"
    }
   ],
   "source": [
    "A = 123\n",
    "a = np.divmod(A, 10)\n",
    "aa = np.divmod(a[0], 10)\n",
    "aa"
   ]
  },
  {
   "cell_type": "code",
   "execution_count": 80,
   "id": "2546ff18-bec1-4b56-baf2-79c0da111b2d",
   "metadata": {},
   "outputs": [
    {
     "data": {
      "text/plain": [
       "array([[0, 0, 0],\n",
       "       [1, 0, 0],\n",
       "       [0, 0, 0]])"
      ]
     },
     "execution_count": 80,
     "metadata": {},
     "output_type": "execute_result"
    }
   ],
   "source": [
    "x = np.dot(Epsilon_Tensor[0], Epsilon_Tensor[1])\n",
    "x"
   ]
  },
  {
   "cell_type": "code",
   "execution_count": null,
   "id": "c11223c0-060f-49ac-a83e-cc7c8dfc6f9f",
   "metadata": {},
   "outputs": [],
   "source": [
    "def tensor_cross(a,b):\n",
    "    e1 = "
   ]
  }
 ],
 "metadata": {
  "kernelspec": {
   "display_name": "Python [conda env:DL_tensor] *",
   "language": "python",
   "name": "conda-env-DL_tensor-py"
  },
  "language_info": {
   "codemirror_mode": {
    "name": "ipython",
    "version": 3
   },
   "file_extension": ".py",
   "mimetype": "text/x-python",
   "name": "python",
   "nbconvert_exporter": "python",
   "pygments_lexer": "ipython3",
   "version": "3.8.12"
  }
 },
 "nbformat": 4,
 "nbformat_minor": 5
}
